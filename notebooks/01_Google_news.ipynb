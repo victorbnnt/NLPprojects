{
 "cells": [
  {
   "cell_type": "markdown",
   "metadata": {},
   "source": [
    "# Google News"
   ]
  },
  {
   "cell_type": "code",
   "execution_count": 39,
   "metadata": {},
   "outputs": [],
   "source": [
    "from GoogleNews import GoogleNews\n",
    "import pandas as pd\n",
    "import re\n",
    "import unicodedata\n",
    "from nltk.stem import WordNetLemmatizer\n",
    "from sklearn.feature_extraction.text import CountVectorizer\n",
    "from sklearn.feature_extraction.text import TfidfTransformer\n",
    "from sklearn.naive_bayes import MultinomialNB\n",
    "from sklearn.model_selection import cross_validate\n",
    "from sklearn.feature_extraction.text import TfidfVectorizer\n",
    "pd.set_option('display.max_columns', None)"
   ]
  },
  {
   "cell_type": "code",
   "execution_count": 40,
   "metadata": {},
   "outputs": [],
   "source": [
    "googlenews = GoogleNews(period=\"1d\", encode='utf-8')#lang='fr'"
   ]
  },
  {
   "cell_type": "code",
   "execution_count": 43,
   "metadata": {},
   "outputs": [],
   "source": [
    "googlenews.clear()\n",
    "googlenews.get_news('BITCOIN')"
   ]
  },
  {
   "cell_type": "code",
   "execution_count": 44,
   "metadata": {
    "scrolled": false
   },
   "outputs": [
    {
     "data": {
      "text/plain": [
       "93"
      ]
     },
     "execution_count": 44,
     "metadata": {},
     "output_type": "execute_result"
    }
   ],
   "source": [
    "news = googlenews.results()\n",
    "len(news)"
   ]
  },
  {
   "cell_type": "code",
   "execution_count": 45,
   "metadata": {},
   "outputs": [],
   "source": [
    "news_df = pd.DataFrame()\n",
    "for k in range(len(news)):\n",
    "    news_line = pd.DataFrame(news[k], index=[k])\n",
    "    news_df = pd.concat([news_df, news_line], axis=0)"
   ]
  },
  {
   "cell_type": "code",
   "execution_count": 46,
   "metadata": {
    "scrolled": false
   },
   "outputs": [
    {
     "data": {
      "text/html": [
       "<div>\n",
       "<style scoped>\n",
       "    .dataframe tbody tr th:only-of-type {\n",
       "        vertical-align: middle;\n",
       "    }\n",
       "\n",
       "    .dataframe tbody tr th {\n",
       "        vertical-align: top;\n",
       "    }\n",
       "\n",
       "    .dataframe thead th {\n",
       "        text-align: right;\n",
       "    }\n",
       "</style>\n",
       "<table border=\"1\" class=\"dataframe\">\n",
       "  <thead>\n",
       "    <tr style=\"text-align: right;\">\n",
       "      <th></th>\n",
       "      <th>title</th>\n",
       "      <th>desc</th>\n",
       "      <th>date</th>\n",
       "      <th>datetime</th>\n",
       "      <th>link</th>\n",
       "      <th>img</th>\n",
       "      <th>media</th>\n",
       "      <th>site</th>\n",
       "    </tr>\n",
       "  </thead>\n",
       "  <tbody>\n",
       "    <tr>\n",
       "      <th>19</th>\n",
       "      <td>Advisor to President of Colombia: Bitcoin Is '...</td>\n",
       "      <td>bookmark_border</td>\n",
       "      <td>21 hours ago</td>\n",
       "      <td>2021-08-21 16:12:24.407841</td>\n",
       "      <td>news.google.com/./articles/CBMifWh0dHBzOi8vd3d...</td>\n",
       "      <td>https://lh3.googleusercontent.com/proxy/CZVe_E...</td>\n",
       "      <td>None</td>\n",
       "      <td>CryptoGlobe</td>\n",
       "    </tr>\n",
       "    <tr>\n",
       "      <th>77</th>\n",
       "      <td>Assessing the odds of Uniswap recovering from ...</td>\n",
       "      <td>bookmark_border</td>\n",
       "      <td>16 hours ago</td>\n",
       "      <td>2021-08-21 21:12:24.420196</td>\n",
       "      <td>news.google.com/./articles/CAIiED4N25njyvNtsuh...</td>\n",
       "      <td>https://lh3.googleusercontent.com/proxy/uvZtTM...</td>\n",
       "      <td>None</td>\n",
       "      <td>AMBCrypto News</td>\n",
       "    </tr>\n",
       "  </tbody>\n",
       "</table>\n",
       "</div>"
      ],
      "text/plain": [
       "                                                title             desc  \\\n",
       "19  Advisor to President of Colombia: Bitcoin Is '...  bookmark_border   \n",
       "77  Assessing the odds of Uniswap recovering from ...  bookmark_border   \n",
       "\n",
       "            date                   datetime  \\\n",
       "19  21 hours ago 2021-08-21 16:12:24.407841   \n",
       "77  16 hours ago 2021-08-21 21:12:24.420196   \n",
       "\n",
       "                                                 link  \\\n",
       "19  news.google.com/./articles/CBMifWh0dHBzOi8vd3d...   \n",
       "77  news.google.com/./articles/CAIiED4N25njyvNtsuh...   \n",
       "\n",
       "                                                  img media            site  \n",
       "19  https://lh3.googleusercontent.com/proxy/CZVe_E...  None     CryptoGlobe  \n",
       "77  https://lh3.googleusercontent.com/proxy/uvZtTM...  None  AMBCrypto News  "
      ]
     },
     "execution_count": 46,
     "metadata": {},
     "output_type": "execute_result"
    }
   ],
   "source": [
    "news_df.sample(2)"
   ]
  },
  {
   "cell_type": "code",
   "execution_count": 49,
   "metadata": {},
   "outputs": [],
   "source": [
    "news_df[\"date\"] = news_df[\"date\"].apply(lambda x: float(x.replace(\"hours ago\", \"\").replace(\"hour ago\", \"\").replace(\"minutes ago\", \"\").strip()))"
   ]
  },
  {
   "cell_type": "code",
   "execution_count": 50,
   "metadata": {},
   "outputs": [
    {
     "data": {
      "text/html": [
       "<div>\n",
       "<style scoped>\n",
       "    .dataframe tbody tr th:only-of-type {\n",
       "        vertical-align: middle;\n",
       "    }\n",
       "\n",
       "    .dataframe tbody tr th {\n",
       "        vertical-align: top;\n",
       "    }\n",
       "\n",
       "    .dataframe thead th {\n",
       "        text-align: right;\n",
       "    }\n",
       "</style>\n",
       "<table border=\"1\" class=\"dataframe\">\n",
       "  <thead>\n",
       "    <tr style=\"text-align: right;\">\n",
       "      <th></th>\n",
       "      <th>title</th>\n",
       "      <th>desc</th>\n",
       "      <th>date</th>\n",
       "      <th>datetime</th>\n",
       "      <th>link</th>\n",
       "      <th>img</th>\n",
       "      <th>media</th>\n",
       "      <th>site</th>\n",
       "    </tr>\n",
       "  </thead>\n",
       "  <tbody>\n",
       "    <tr>\n",
       "      <th>21</th>\n",
       "      <td>Cryptocurrency Companies Are Leaving China in ...</td>\n",
       "      <td>bookmark_border</td>\n",
       "      <td>1.0</td>\n",
       "      <td>2021-08-22 12:12:24.408259</td>\n",
       "      <td>news.google.com/./articles/CAIiENmNLviEqerHL-0...</td>\n",
       "      <td>https://lh3.googleusercontent.com/proxy/Z_2PFd...</td>\n",
       "      <td>None</td>\n",
       "      <td>The Wall Street Journal</td>\n",
       "    </tr>\n",
       "    <tr>\n",
       "      <th>34</th>\n",
       "      <td>Bitcoin is approaching the $ 50,000 level … th...</td>\n",
       "      <td>bookmark_border</td>\n",
       "      <td>1.0</td>\n",
       "      <td>2021-08-22 12:12:24.411081</td>\n",
       "      <td>news.google.com/./articles/CAIiEJOPQGQGZczkpS4...</td>\n",
       "      <td>https://lh3.googleusercontent.com/proxy/X03OIe...</td>\n",
       "      <td>None</td>\n",
       "      <td>asumetech</td>\n",
       "    </tr>\n",
       "  </tbody>\n",
       "</table>\n",
       "</div>"
      ],
      "text/plain": [
       "                                                title             desc  date  \\\n",
       "21  Cryptocurrency Companies Are Leaving China in ...  bookmark_border   1.0   \n",
       "34  Bitcoin is approaching the $ 50,000 level … th...  bookmark_border   1.0   \n",
       "\n",
       "                     datetime  \\\n",
       "21 2021-08-22 12:12:24.408259   \n",
       "34 2021-08-22 12:12:24.411081   \n",
       "\n",
       "                                                 link  \\\n",
       "21  news.google.com/./articles/CAIiENmNLviEqerHL-0...   \n",
       "34  news.google.com/./articles/CAIiEJOPQGQGZczkpS4...   \n",
       "\n",
       "                                                  img media  \\\n",
       "21  https://lh3.googleusercontent.com/proxy/Z_2PFd...  None   \n",
       "34  https://lh3.googleusercontent.com/proxy/X03OIe...  None   \n",
       "\n",
       "                       site  \n",
       "21  The Wall Street Journal  \n",
       "34                asumetech  "
      ]
     },
     "execution_count": 50,
     "metadata": {},
     "output_type": "execute_result"
    }
   ],
   "source": [
    "news_df.sort_values(by=\"date\", ascending=True)[0:2]"
   ]
  },
  {
   "cell_type": "code",
   "execution_count": 51,
   "metadata": {},
   "outputs": [
    {
     "data": {
      "text/plain": [
       "'news.google.com/./articles/CAIiEK_rkmiktCtx5IyinNdHsQIqGQgEKhAIACoHCAow4uzwCjCF3bsCMKrOrwM?hl=en-US&gl=US&ceid=US%3Aen'"
      ]
     },
     "execution_count": 51,
     "metadata": {},
     "output_type": "execute_result"
    }
   ],
   "source": [
    "news_df.loc[0].at[\"link\"]"
   ]
  },
  {
   "cell_type": "markdown",
   "metadata": {},
   "source": [
    "# Imports"
   ]
  },
  {
   "cell_type": "code",
   "execution_count": 52,
   "metadata": {},
   "outputs": [],
   "source": [
    "%matplotlib inline\n",
    "import string\n",
    "import numpy as np\n",
    "import matplotlib\n",
    "from nltk.corpus import stopwords\n",
    "import matplotlib.pyplot as plt\n",
    "matplotlib.rc('xtick', labelsize=14) \n",
    "matplotlib.rc('ytick', labelsize=14)"
   ]
  },
  {
   "cell_type": "markdown",
   "metadata": {},
   "source": [
    "# Loading data"
   ]
  },
  {
   "cell_type": "code",
   "execution_count": 53,
   "metadata": {},
   "outputs": [],
   "source": [
    "data_sentiment = pd.read_csv(\"../raw_data/stock_data.csv\")\n",
    "data_sentiment[\"Text\"] = data_sentiment[\"Text\"].apply(lambda x: x.strip())"
   ]
  },
  {
   "cell_type": "code",
   "execution_count": 54,
   "metadata": {},
   "outputs": [
    {
     "data": {
      "text/plain": [
       " 1    3685\n",
       "-1    2106\n",
       "Name: Sentiment, dtype: int64"
      ]
     },
     "execution_count": 54,
     "metadata": {},
     "output_type": "execute_result"
    }
   ],
   "source": [
    "data_sentiment[\"Sentiment\"].value_counts()"
   ]
  },
  {
   "cell_type": "code",
   "execution_count": 55,
   "metadata": {},
   "outputs": [
    {
     "data": {
      "text/html": [
       "<div>\n",
       "<style scoped>\n",
       "    .dataframe tbody tr th:only-of-type {\n",
       "        vertical-align: middle;\n",
       "    }\n",
       "\n",
       "    .dataframe tbody tr th {\n",
       "        vertical-align: top;\n",
       "    }\n",
       "\n",
       "    .dataframe thead th {\n",
       "        text-align: right;\n",
       "    }\n",
       "</style>\n",
       "<table border=\"1\" class=\"dataframe\">\n",
       "  <thead>\n",
       "    <tr style=\"text-align: right;\">\n",
       "      <th></th>\n",
       "      <th>Text</th>\n",
       "      <th>Sentiment</th>\n",
       "    </tr>\n",
       "  </thead>\n",
       "  <tbody>\n",
       "    <tr>\n",
       "      <th>697</th>\n",
       "      <td>user Krisanti that is why I had mentioned that...</td>\n",
       "      <td>-1</td>\n",
       "    </tr>\n",
       "    <tr>\n",
       "      <th>3358</th>\n",
       "      <td>HN over 18 again doing above avg volume</td>\n",
       "      <td>1</td>\n",
       "    </tr>\n",
       "    <tr>\n",
       "      <th>406</th>\n",
       "      <td>AJ Over 18.00 on good volume</td>\n",
       "      <td>1</td>\n",
       "    </tr>\n",
       "    <tr>\n",
       "      <th>331</th>\n",
       "      <td>VVS Technicals are positive for a continued cl...</td>\n",
       "      <td>1</td>\n",
       "    </tr>\n",
       "    <tr>\n",
       "      <th>3381</th>\n",
       "      <td>BYD possible bounce zone</td>\n",
       "      <td>1</td>\n",
       "    </tr>\n",
       "  </tbody>\n",
       "</table>\n",
       "</div>"
      ],
      "text/plain": [
       "                                                   Text  Sentiment\n",
       "697   user Krisanti that is why I had mentioned that...         -1\n",
       "3358            HN over 18 again doing above avg volume          1\n",
       "406                        AJ Over 18.00 on good volume          1\n",
       "331   VVS Technicals are positive for a continued cl...          1\n",
       "3381                           BYD possible bounce zone          1"
      ]
     },
     "execution_count": 55,
     "metadata": {},
     "output_type": "execute_result"
    }
   ],
   "source": [
    "data_sentiment.sample(5)"
   ]
  },
  {
   "cell_type": "markdown",
   "metadata": {},
   "source": [
    "# Cleaning"
   ]
  },
  {
   "cell_type": "code",
   "execution_count": 56,
   "metadata": {},
   "outputs": [],
   "source": [
    "def lowerize(df, label):\n",
    "    \"\"\" text lowercase\n",
    "        removes \\n\n",
    "        removes \\t\n",
    "        removes \\r \"\"\"\n",
    "    df[label] = df[label].str.lower()\n",
    "    df[label] = df[label].apply(lambda x: x.replace(\"\\n\", \" \"))\n",
    "    df[label] = df[label].apply(lambda x: x.replace(\"\\r\", \" \"))\n",
    "    df[label] = df[label].apply(lambda x: x.replace(\"\\t\", \" \"))\n",
    "    return df\n",
    "\n",
    "def remove_emails(df, label):\n",
    "    \"\"\" This function removes email adresses\n",
    "        inputs:\n",
    "         - text \"\"\"\n",
    "    df[label] = df[label].apply(lambda x: re.sub(r\"\"\"(?:[a-z0-9!#$%&'*+/=?^_`{|}~-]+(?:\\.[a-z0-9!#$%&'*+/=?^_`{|}~-]+)*|\"(?:[\\x01-\\x08\\x0b\\x0c\\x0e-\\x1f\\x21\\x23-\\x5b\\x5d-\\x7f]|\\\\[\\x01-\\x09\\x0b\\x0c\\x0e-\\x7f])*\")@(?:(?:[a-z0-9](?:[a-z0-9-]*[a-z0-9])?\\.)+[a-z0-9](?:[a-z0-9-]*[a-z0-9])?|\\[(?:(?:(2(5[0-5]|[0-4][0-9])|1[0-9][0-9]|[1-9]?[0-9]))\\.){3}(?:(2(5[0-5]|[0-4][0-9])|1[0-9][0-9]|[1-9]?[0-9])|[a-z0-9-]*[a-z0-9]:(?:[\\x01-\\x08\\x0b\\x0c\\x0e-\\x1f\\x21-\\x5a\\x53-\\x7f]|\\\\[\\x01-\\x09\\x0b\\x0c\\x0e-\\x7f])+)\\])\"\"\", \" \", x))\n",
    "    return df\n",
    "\n",
    "def remove_mentions(df, label):\n",
    "    \"\"\" This function removes mentions (Twitter - starting with @) from texts\n",
    "        inputs:\n",
    "         - text \"\"\"\n",
    "    df[label] = df[label].apply(lambda x: re.sub(r\"@([a-zA-Z0-9_.-]{1,100})\", \" \", x))\n",
    "    return df\n",
    "\n",
    "def remove_hyperlinks(df, label):\n",
    "    \"\"\" This function removes hyperlinks from texts\n",
    "        inputs:\n",
    "         - text \"\"\"\n",
    "    df[label] = df[label].apply(lambda x: re.sub(r\"http\\S+\", \" \", x))\n",
    "    return df\n",
    "\n",
    "def remove_hashtags(df, label):\n",
    "    \"\"\" This function removes hashtags\n",
    "        inputs:\n",
    "         - text \"\"\"\n",
    "    df[label] = df[label].apply(lambda x: re.sub(r\"#\\w+\", \" \", x))\n",
    "    return df\n",
    "\n",
    "def remove_html_tags(df, label):\n",
    "    \"\"\" This function removes html tags from texts\n",
    "        inputs:\n",
    "         - text \"\"\"\n",
    "    df[label] = df[label].apply(lambda x: re.sub(r\"<.*?>\", \" \", x))\n",
    "    return df\n",
    "\n",
    "def remove_numbers(df, label):\n",
    "    \"\"\" This function removes numbers from a text\n",
    "        inputs:\n",
    "         - text \"\"\"\n",
    "    df[label] = df[label].apply(lambda x: re.sub(r\"\\d+\", \" \", x))\n",
    "    return df\n",
    "\n",
    "def encode_unknown(df, label):\n",
    "    \"\"\" This function encodes special caracters \"\"\"\n",
    "    df[label] = df[label].apply(lambda x: unicodedata.normalize(\"NFD\", x).encode('ascii', 'ignore').decode(\"utf-8\"))\n",
    "    return df\n",
    "\n",
    "def clean_punctuation_no_accent(df, label):\n",
    "    \"\"\" This function removes punctuation and accented characters from texts in a dataframe \n",
    "        To be appplied to languages that have no accents, ex: english \n",
    "    \"\"\"\n",
    "    df[label] = df[label].apply(lambda x: re.sub(r'[^\\w\\s]', ' ', x))\n",
    "    return df\n",
    "\n",
    "def remove_stop_words(text, stopwords=set(stopwords.words('english'))):\n",
    "    \"\"\" This function removes stop words from a text\n",
    "        inputs:\n",
    "         - stopword list\n",
    "         - text \"\"\"\n",
    "\n",
    "    # prepare new text\n",
    "    text_splitted = text.split(\" \")\n",
    "    text_new = list()\n",
    "    \n",
    "    # stop words updated\n",
    "    #stopwords = stopwords.union({\"grocery store\", \"covid\", \"supermarket\", \"people\", \"grocery\", \"store\", \"price\", \"time\"})\n",
    "    \n",
    "    # loop\n",
    "    for word in text_splitted:\n",
    "        if word not in stopwords:\n",
    "            text_new.append(word)\n",
    "    return \" \".join(text_new)\n",
    "\n",
    "def clean_stopwords(df, label):\n",
    "    \"\"\" This function removes stopwords \"\"\"\n",
    "    df[label] = df[label].apply(lambda x: remove_stop_words(x))\n",
    "    return df\n",
    "\n",
    "def more_cleaning(df, label):\n",
    "    \"\"\" This function\n",
    "     1) removes remaining one-letter words and two letters words\n",
    "     2) replaces multiple spaces by one single space\n",
    "     3) drop empty lines \"\"\"\n",
    "    df[label] = df[label].apply(lambda x: re.sub(r'\\b\\w{1,2}\\b', \" \", x))\n",
    "    df[label] = df[label].apply(lambda x: re.sub(r\"[ \\t]{2,}\", \" \", x))\n",
    "    df[label] = df[label].apply(lambda x: x if len(x) != 1 else '')\n",
    "    df[label] = df[label].apply(lambda x: np.nan if x == '' else x)\n",
    "    df = df.dropna(subset=[label], axis=0).reset_index(drop=True).copy()\n",
    "    return df\n",
    "\n",
    "def lemmatize_one_text(text):\n",
    "    \"\"\" This function lemmatizes words in text (it changes word to most close root word)\n",
    "        inputs:\n",
    "         - lemmatizer\n",
    "         - text \"\"\"\n",
    "\n",
    "    # initialize lemmatizer\n",
    "    lemmatizer = WordNetLemmatizer()\n",
    "    \n",
    "    # tags\n",
    "    lem_tags = ['a', 'r', 'n', 'v']\n",
    "\n",
    "    # prepare new text\n",
    "    text_splitted = text.split(\" \")\n",
    "    text_new = list()\n",
    "\n",
    "    # change bool\n",
    "    changed = ''\n",
    "    \n",
    "    # loop\n",
    "    for word in text_splitted:\n",
    "        changed = ''\n",
    "        for tag in lem_tags:\n",
    "            if lemmatizer.lemmatize(word, tag) != word:\n",
    "                changed = tag\n",
    "        if changed == '':\n",
    "            text_new.append(word)\n",
    "        else:\n",
    "            text_new.append(lemmatizer.lemmatize(word, changed))\n",
    "\n",
    "    return \" \".join(text_new)\n",
    "\n",
    "def lemmatize(df, label):\n",
    "    \"\"\" This function lemmatizes texts \"\"\"\n",
    "    df[label] = df[label].apply(lambda x: lemmatize_one_text(x))\n",
    "    return df"
   ]
  },
  {
   "cell_type": "code",
   "execution_count": 57,
   "metadata": {},
   "outputs": [],
   "source": [
    "col_label = \"TextClean\"\n",
    "df_train = data_sentiment.copy()\n",
    "df_train[col_label] = data_sentiment[\"Text\"]\n",
    "df_train = lowerize(df_train, col_label)\n",
    "df_train = remove_emails(df_train, col_label)\n",
    "df_train = remove_mentions(df_train, col_label)\n",
    "df_train = remove_hyperlinks(df_train, col_label)\n",
    "df_train = remove_hashtags(df_train, col_label)\n",
    "df_train = remove_html_tags(df_train, col_label)\n",
    "df_train = remove_numbers(df_train, col_label)\n",
    "df_train = encode_unknown(df_train, col_label)\n",
    "df_train = clean_punctuation_no_accent(df_train, col_label)\n",
    "df_train = clean_stopwords(df_train, col_label)\n",
    "df_train = more_cleaning(df_train, col_label)\n",
    "df_train = lemmatize(df_train, col_label)"
   ]
  },
  {
   "cell_type": "code",
   "execution_count": 58,
   "metadata": {},
   "outputs": [
    {
     "data": {
      "text/html": [
       "<div>\n",
       "<style scoped>\n",
       "    .dataframe tbody tr th:only-of-type {\n",
       "        vertical-align: middle;\n",
       "    }\n",
       "\n",
       "    .dataframe tbody tr th {\n",
       "        vertical-align: top;\n",
       "    }\n",
       "\n",
       "    .dataframe thead th {\n",
       "        text-align: right;\n",
       "    }\n",
       "</style>\n",
       "<table border=\"1\" class=\"dataframe\">\n",
       "  <thead>\n",
       "    <tr style=\"text-align: right;\">\n",
       "      <th></th>\n",
       "      <th>Text</th>\n",
       "      <th>Sentiment</th>\n",
       "      <th>TextClean</th>\n",
       "    </tr>\n",
       "  </thead>\n",
       "  <tbody>\n",
       "    <tr>\n",
       "      <th>1992</th>\n",
       "      <td>OC  more weakness here and it might hit a dime...</td>\n",
       "      <td>-1</td>\n",
       "      <td>weakness might hit dime</td>\n",
       "    </tr>\n",
       "    <tr>\n",
       "      <th>5062</th>\n",
       "      <td>The banks for years rode consumer spending and...</td>\n",
       "      <td>-1</td>\n",
       "      <td>bank year ride consumer spend borrow big profi...</td>\n",
       "    </tr>\n",
       "    <tr>\n",
       "      <th>2374</th>\n",
       "      <td>user: user O Stop loss in 41.54 after beating ...</td>\n",
       "      <td>1</td>\n",
       "      <td>user user stop loss beat</td>\n",
       "    </tr>\n",
       "    <tr>\n",
       "      <th>78</th>\n",
       "      <td>DNDN has broken through the clear 5.5 resistan...</td>\n",
       "      <td>1</td>\n",
       "      <td>dndn break clear resistanc level heavy volume ...</td>\n",
       "    </tr>\n",
       "    <tr>\n",
       "      <th>3393</th>\n",
       "      <td>AAP long 423 and under buying</td>\n",
       "      <td>1</td>\n",
       "      <td>aap long buy</td>\n",
       "    </tr>\n",
       "  </tbody>\n",
       "</table>\n",
       "</div>"
      ],
      "text/plain": [
       "                                                   Text  Sentiment  \\\n",
       "1992  OC  more weakness here and it might hit a dime...         -1   \n",
       "5062  The banks for years rode consumer spending and...         -1   \n",
       "2374  user: user O Stop loss in 41.54 after beating ...          1   \n",
       "78    DNDN has broken through the clear 5.5 resistan...          1   \n",
       "3393                      AAP long 423 and under buying          1   \n",
       "\n",
       "                                              TextClean  \n",
       "1992                           weakness might hit dime   \n",
       "5062  bank year ride consumer spend borrow big profi...  \n",
       "2374                          user user stop loss beat   \n",
       "78    dndn break clear resistanc level heavy volume ...  \n",
       "3393                                       aap long buy  "
      ]
     },
     "execution_count": 58,
     "metadata": {},
     "output_type": "execute_result"
    }
   ],
   "source": [
    "df_train.sample(5)"
   ]
  },
  {
   "cell_type": "markdown",
   "metadata": {},
   "source": [
    "# Evaluation: Bag Of Word VS TF-IDF vectorizer"
   ]
  },
  {
   "cell_type": "code",
   "execution_count": 59,
   "metadata": {},
   "outputs": [],
   "source": [
    "y = df_train[\"Sentiment\"]"
   ]
  },
  {
   "cell_type": "markdown",
   "metadata": {},
   "source": [
    "## Bag of words"
   ]
  },
  {
   "cell_type": "code",
   "execution_count": 60,
   "metadata": {},
   "outputs": [
    {
     "data": {
      "text/plain": [
       "(5780, 6330)"
      ]
     },
     "execution_count": 60,
     "metadata": {},
     "output_type": "execute_result"
    }
   ],
   "source": [
    "vectorizer = CountVectorizer()\n",
    "X_bow = vectorizer.fit_transform(df_train[\"TextClean\"])\n",
    "X_bow.toarray().shape"
   ]
  },
  {
   "cell_type": "code",
   "execution_count": 61,
   "metadata": {},
   "outputs": [
    {
     "data": {
      "text/plain": [
       "0.7053633217993079"
      ]
     },
     "execution_count": 61,
     "metadata": {},
     "output_type": "execute_result"
    }
   ],
   "source": [
    "nb_model = MultinomialNB()\n",
    "cv_results = cross_validate(nb_model, X_bow, y, scoring=\"accuracy\", cv=10)\n",
    "cv_results[\"test_score\"].mean()"
   ]
  },
  {
   "cell_type": "markdown",
   "metadata": {},
   "source": [
    "### N-Gram"
   ]
  },
  {
   "cell_type": "code",
   "execution_count": 62,
   "metadata": {},
   "outputs": [
    {
     "data": {
      "text/plain": [
       "(5780, 6330)"
      ]
     },
     "execution_count": 62,
     "metadata": {},
     "output_type": "execute_result"
    }
   ],
   "source": [
    "tf_idf_vectorizer = TfidfVectorizer(ngram_range = (1, 1))\n",
    "X_tfidf = tf_idf_vectorizer.fit_transform(df_train[\"TextClean\"])\n",
    "X_tfidf.toarray().shape"
   ]
  },
  {
   "cell_type": "code",
   "execution_count": 63,
   "metadata": {},
   "outputs": [],
   "source": [
    "#pd.DataFrame(X_tfidf.toarray(),columns = tf_idf_vectorizer.get_feature_names())"
   ]
  },
  {
   "cell_type": "code",
   "execution_count": 64,
   "metadata": {},
   "outputs": [
    {
     "data": {
      "text/plain": [
       "0.6899653979238753"
      ]
     },
     "execution_count": 64,
     "metadata": {},
     "output_type": "execute_result"
    }
   ],
   "source": [
    "nb_model_tfidf = MultinomialNB()\n",
    "cv_results_tfidf = cross_validate(nb_model_tfidf, X_tfidf, y, scoring=\"accuracy\", cv=10)\n",
    "cv_results_tfidf[\"test_score\"].mean()"
   ]
  },
  {
   "cell_type": "markdown",
   "metadata": {},
   "source": [
    "<div style=\"font-size:20pt;color: royalblue\">Bag of Words gives a better performance</div>"
   ]
  },
  {
   "cell_type": "markdown",
   "metadata": {},
   "source": [
    "<b>For information</b>\n",
    "```\n",
    "vectorizer = CountVectorizer()\n",
    "data_features = vectorizer.fit_transform(df_train[\"CleanText\"])\n",
    "\n",
    "tfidf_transformer = TfidfTransformer()\n",
    "data_features_tfidf = tfidf_transformer.fit_transform(data_features)\n",
    "X_tfidf = data_features_tfidf.toarray()\n",
    "```\n",
    "<b>Is equal to</b>\n",
    "\n",
    "```\n",
    "tf_idf_vectorizer = TfidfVectorizer(ngram_range = (1, 1))\n",
    "X_tfidf = tf_idf_vectorizer.fit_transform(df_train[\"CleanText\"])\n",
    "```\n",
    "<br><br><b>For information again, some possible parameters of CountVectorizer</b>\n",
    "```\n",
    "vectorizer = CountVectorizer(analyzer = \"word\", \n",
    "                             preprocessor = None, \n",
    "                             stop_words =  'english', \n",
    "                             max_features = 6000, ngram_range=(1,5))\n",
    "```"
   ]
  },
  {
   "cell_type": "code",
   "execution_count": 65,
   "metadata": {},
   "outputs": [],
   "source": [
    "# train test split tarabiscoté\n",
    "np.random.seed(0)\n",
    "test_index = np.append(np.random.choice((np.where(y==-1))[0], 250, replace=False), np.random.choice((np.where(y==1))[0], 250, replace=False))\n",
    "train_index = list(set(range(len(y))) - set(test_index))\n",
    "\n",
    "# X_train\n",
    "train_data = X_tfidf[train_index,]\n",
    "\n",
    "# y_train\n",
    "train_labels = y[train_index]\n",
    "\n",
    "# X_test\n",
    "test_data = X_tfidf[test_index,]\n",
    "\n",
    "# y_test\n",
    "test_labels = y[test_index]"
   ]
  },
  {
   "cell_type": "markdown",
   "metadata": {},
   "source": [
    "# Text blob"
   ]
  },
  {
   "cell_type": "code",
   "execution_count": 66,
   "metadata": {},
   "outputs": [],
   "source": [
    "from textblob import TextBlob\n",
    "#Create polarity function and subjectivity function\n",
    "pol = lambda x: TextBlob(x).sentiment.polarity\n",
    "sub = lambda x: TextBlob(x).sentiment.subjectivity\n",
    "pol_list = [pol(x) for x in df_train[\"TextClean\"]]\n",
    "sub_list = [sub(x) for x in df_train[\"TextClean\"]]"
   ]
  },
  {
   "cell_type": "code",
   "execution_count": 67,
   "metadata": {},
   "outputs": [],
   "source": [
    "df_train[\"Polarity\"] = pol_list\n",
    "df_train[\"Subjectivity\"] = sub_list"
   ]
  },
  {
   "cell_type": "code",
   "execution_count": 68,
   "metadata": {},
   "outputs": [
    {
     "data": {
      "text/html": [
       "<div>\n",
       "<style scoped>\n",
       "    .dataframe tbody tr th:only-of-type {\n",
       "        vertical-align: middle;\n",
       "    }\n",
       "\n",
       "    .dataframe tbody tr th {\n",
       "        vertical-align: top;\n",
       "    }\n",
       "\n",
       "    .dataframe thead th {\n",
       "        text-align: right;\n",
       "    }\n",
       "</style>\n",
       "<table border=\"1\" class=\"dataframe\">\n",
       "  <thead>\n",
       "    <tr style=\"text-align: right;\">\n",
       "      <th></th>\n",
       "      <th>Text</th>\n",
       "      <th>Sentiment</th>\n",
       "      <th>TextClean</th>\n",
       "      <th>Polarity</th>\n",
       "      <th>Subjectivity</th>\n",
       "    </tr>\n",
       "  </thead>\n",
       "  <tbody>\n",
       "    <tr>\n",
       "      <th>3863</th>\n",
       "      <td>user:  &lt; Opens door for AAP deal with China Mo...</td>\n",
       "      <td>1</td>\n",
       "      <td>user open door aap deal china mobile sad build</td>\n",
       "      <td>-0.25</td>\n",
       "      <td>0.75</td>\n",
       "    </tr>\n",
       "    <tr>\n",
       "      <th>2524</th>\n",
       "      <td>M currently above resistance this morning</td>\n",
       "      <td>1</td>\n",
       "      <td>currently resistance morning</td>\n",
       "      <td>0.00</td>\n",
       "      <td>0.40</td>\n",
       "    </tr>\n",
       "  </tbody>\n",
       "</table>\n",
       "</div>"
      ],
      "text/plain": [
       "                                                   Text  Sentiment  \\\n",
       "3863  user:  < Opens door for AAP deal with China Mo...          1   \n",
       "2524          M currently above resistance this morning          1   \n",
       "\n",
       "                                            TextClean  Polarity  Subjectivity  \n",
       "3863  user open door aap deal china mobile sad build      -0.25          0.75  \n",
       "2524                     currently resistance morning      0.00          0.40  "
      ]
     },
     "execution_count": 68,
     "metadata": {},
     "output_type": "execute_result"
    }
   ],
   "source": [
    "df_train.sample(2)"
   ]
  },
  {
   "cell_type": "markdown",
   "metadata": {},
   "source": [
    "# Training with Stochastic Gradient Descent Classifier"
   ]
  },
  {
   "cell_type": "code",
   "execution_count": 69,
   "metadata": {},
   "outputs": [
    {
     "name": "stdout",
     "output_type": "stream",
     "text": [
      "Training error:  0.04147727272727273\n",
      "Test error:  0.272\n"
     ]
    }
   ],
   "source": [
    "from sklearn.linear_model import SGDClassifier\n",
    "## Fit logistic classifier on training data\n",
    "clf = SGDClassifier(loss=\"log\", penalty=\"none\")\n",
    "clf.fit(train_data, train_labels)\n",
    "\n",
    "## Pull out the parameters (w, b) of the logistic regression model\n",
    "w = clf.coef_[0,:]\n",
    "b = clf.intercept_\n",
    "\n",
    "## Get predictions on training and test data\n",
    "preds_train = clf.predict(train_data)\n",
    "preds_test = clf.predict(test_data)\n",
    "\n",
    "## Compute errors\n",
    "errs_train = np.sum((preds_train > 0.0) != (train_labels > 0.0))\n",
    "errs_test = np.sum((preds_test > 0.0) != (test_labels > 0.0))\n",
    "print(\"Training error: \", float(errs_train)/len(train_labels))\n",
    "print(\"Test error: \", float(errs_test)/len(test_labels))"
   ]
  },
  {
   "cell_type": "code",
   "execution_count": 70,
   "metadata": {},
   "outputs": [
    {
     "name": "stdout",
     "output_type": "stream",
     "text": [
      "Highly negative words: \n",
      "['short', 'shoot', 'bearish', 'vxy', 'red', 'reshort', 'fail', 'put', 'weak', 'cne', 'drop', 'coronavirus', 'downside', 'nem', 'trust', 'fall', 'ssys', 'rupee', 'shoulder', 'momo', 'crash', 'suffer', 'pump', 'negative', 'low', 'petm', 'sink', 'doubt', 'bear', 'zagg', 'fan', 'kalamazoo', 'med', 'delivery', 'deficit', 'careful', 'jcp', 'kumo', 'decline', 'house', 'index', 'ange', 'remind', 'cause', 'pressure', 'potential', 'sell', 'cai', 'vmw', 'wholesale']\n",
      "Highly positive words: \n",
      "['split', 'list', 'continuation', 'term', 'gid', 'swy', 'jva', 'fyi', 'store', 'murder', 'kwk', 'squeeze', 'entry', 'quickly', 'adjust', 'buyer', 'mnk', 'pool', 'thru', 'grow', 'ready', 'hod', 'consolidation', 'ocn', 'sev', 'cst', 'man', 'high', 'znga', 'breakout', 'everywhere', 'anad', 'pullback', 'oversold', 'rip', 'swhc', 'cup', 'gun', 'mnkd', 'hop', 'bullish', 'upside', 'float', 'sto', 'pop', 'help', 'nice', 'vng']\n"
     ]
    }
   ],
   "source": [
    "## Convert vocabulary into a list:\n",
    "vocab = np.array([z[0] for z in sorted(vectorizer.vocabulary_.items(), key=lambda x:x[1])])\n",
    "\n",
    "## Get indices of sorting w\n",
    "inds = np.argsort(w)\n",
    "\n",
    "## Words with large negative values\n",
    "neg_inds = inds[0:50]\n",
    "\n",
    "print(\"Highly negative words: \")\n",
    "print([x for x in list(vocab[neg_inds])])\n",
    "## Words with large positive values\n",
    "pos_inds = inds[-49:-1]\n",
    "print(\"Highly positive words: \")\n",
    "print([x for x in list(vocab[pos_inds])])"
   ]
  },
  {
   "cell_type": "code",
   "execution_count": 71,
   "metadata": {},
   "outputs": [
    {
     "data": {
      "image/png": "[encoded data removed]",
      "text/plain": [
       "<Figure size 432x288 with 1 Axes>"
      ]
     },
     "metadata": {
      "needs_background": "light"
     },
     "output_type": "display_data"
    }
   ],
   "source": [
    "from wordcloud import WordCloud\n",
    "wc = WordCloud(stopwords=[], background_color=\"white\", colormap=\"Dark2\",\n",
    "               max_font_size=150, random_state=42)\n",
    "#plt.rcParams['figure.figsize'] = [16, 6]\n",
    "wc.generate(\" \".join(list(vocab[neg_inds])))\n",
    "plt.imshow(wc, interpolation=\"bilinear\")\n",
    "plt.axis(\"off\")    \n",
    "plt.show()"
   ]
  },
  {
   "cell_type": "code",
   "execution_count": 72,
   "metadata": {},
   "outputs": [
    {
     "data": {
      "image/png": "[encoded data removed]",
      "text/plain": [
       "<Figure size 432x288 with 1 Axes>"
      ]
     },
     "metadata": {
      "needs_background": "light"
     },
     "output_type": "display_data"
    }
   ],
   "source": [
    "from wordcloud import WordCloud\n",
    "wc = WordCloud(stopwords=[], background_color=\"white\", colormap=\"twilight_shifted\",\n",
    "               max_font_size=150, random_state=42)\n",
    "#plt.rcParams['figure.figsize'] = [16, 6]\n",
    "wc.generate(\" \".join(list(vocab[pos_inds])))\n",
    "plt.imshow(wc, interpolation=\"bilinear\")\n",
    "plt.axis(\"off\")    \n",
    "plt.show()"
   ]
  },
  {
   "cell_type": "code",
   "execution_count": 73,
   "metadata": {},
   "outputs": [
    {
     "name": "stdout",
     "output_type": "stream",
     "text": [
      "Test error:  0.342\n"
     ]
    }
   ],
   "source": [
    "from sklearn.naive_bayes import MultinomialNB\n",
    "nb_clf = MultinomialNB().fit(train_data, train_labels)\n",
    "nb_preds_test = nb_clf.predict(test_data)\n",
    "nb_errs_test = np.sum((nb_preds_test > 0.0) != (test_labels > 0.0))\n",
    "print(\"Test error: \", float(nb_errs_test)/len(test_labels))"
   ]
  },
  {
   "cell_type": "code",
   "execution_count": 74,
   "metadata": {},
   "outputs": [
    {
     "name": "stdout",
     "output_type": "stream",
     "text": [
      "[[0.22584573 0.77415427]]\n"
     ]
    }
   ],
   "source": [
    "print(nb_clf.predict_proba(vectorizer.transform([\"It is not what like\"])))"
   ]
  },
  {
   "cell_type": "code",
   "execution_count": 75,
   "metadata": {},
   "outputs": [
    {
     "name": "stdout",
     "output_type": "stream",
     "text": [
      "[1]\n"
     ]
    }
   ],
   "source": [
    "print(nb_clf.predict(vectorizer.transform([\"Waste of my time\"])))"
   ]
  },
  {
   "cell_type": "code",
   "execution_count": null,
   "metadata": {},
   "outputs": [],
   "source": []
  }
 ],
 "metadata": {
  "kernelspec": {
   "display_name": "Python 3",
   "language": "python",
   "name": "python3"
  },
  "language_info": {
   "codemirror_mode": {
    "name": "ipython",
    "version": 3
   },
   "file_extension": ".py",
   "mimetype": "text/x-python",
   "name": "python",
   "nbconvert_exporter": "python",
   "pygments_lexer": "ipython3",
   "version": "3.9.1"
  },
  "toc": {
   "base_numbering": 1,
   "nav_menu": {},
   "number_sections": true,
   "sideBar": true,
   "skip_h1_title": false,
   "title_cell": "Table of Contents",
   "title_sidebar": "Contents",
   "toc_cell": false,
   "toc_position": {},
   "toc_section_display": true,
   "toc_window_display": false
  },
  "varInspector": {
   "cols": {
    "lenName": 16,
    "lenType": 16,
    "lenVar": 40
   },
   "kernels_config": {
    "python": {
     "delete_cmd_postfix": "",
     "delete_cmd_prefix": "del ",
     "library": "var_list.py",
     "varRefreshCmd": "print(var_dic_list())"
    },
    "r": {
     "delete_cmd_postfix": ") ",
     "delete_cmd_prefix": "rm(",
     "library": "var_list.r",
     "varRefreshCmd": "cat(var_dic_list()) "
    }
   },
   "types_to_exclude": [
    "module",
    "function",
    "builtin_function_or_method",
    "instance",
    "_Feature"
   ],
   "window_display": false
  }
 },
 "nbformat": 4,
 "nbformat_minor": 4
}
